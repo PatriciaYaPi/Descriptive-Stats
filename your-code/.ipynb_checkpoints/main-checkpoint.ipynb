{
 "cells": [
  {
   "cell_type": "markdown",
   "metadata": {},
   "source": [
    "# Understanding Descriptive Statistics\n",
    "\n",
    "Import the necessary libraries here:"
   ]
  },
  {
   "cell_type": "code",
   "execution_count": 49,
   "metadata": {},
   "outputs": [],
   "source": [
    "# Libraries\n",
    "import numpy as np\n",
    "import pandas as pd\n",
    "import matplotlib.pyplot as plt\n",
    "import random #for random.choices()"
   ]
  },
  {
   "cell_type": "markdown",
   "metadata": {},
   "source": [
    "## Challenge 1\n",
    "#### 1.- Define a function that simulates rolling a dice 10 times. Save the information in a dataframe.\n",
    "**Hint**: you can use the *choices* function from module *random* to help you with the simulation."
   ]
  },
  {
   "cell_type": "code",
   "execution_count": 50,
   "metadata": {},
   "outputs": [
    {
     "data": {
      "text/html": [
       "<div>\n",
       "<style scoped>\n",
       "    .dataframe tbody tr th:only-of-type {\n",
       "        vertical-align: middle;\n",
       "    }\n",
       "\n",
       "    .dataframe tbody tr th {\n",
       "        vertical-align: top;\n",
       "    }\n",
       "\n",
       "    .dataframe thead th {\n",
       "        text-align: right;\n",
       "    }\n",
       "</style>\n",
       "<table border=\"1\" class=\"dataframe\">\n",
       "  <thead>\n",
       "    <tr style=\"text-align: right;\">\n",
       "      <th></th>\n",
       "      <th>value</th>\n",
       "    </tr>\n",
       "  </thead>\n",
       "  <tbody>\n",
       "    <tr>\n",
       "      <th>0</th>\n",
       "      <td>4</td>\n",
       "    </tr>\n",
       "    <tr>\n",
       "      <th>1</th>\n",
       "      <td>2</td>\n",
       "    </tr>\n",
       "    <tr>\n",
       "      <th>2</th>\n",
       "      <td>6</td>\n",
       "    </tr>\n",
       "    <tr>\n",
       "      <th>3</th>\n",
       "      <td>1</td>\n",
       "    </tr>\n",
       "    <tr>\n",
       "      <th>4</th>\n",
       "      <td>6</td>\n",
       "    </tr>\n",
       "    <tr>\n",
       "      <th>5</th>\n",
       "      <td>6</td>\n",
       "    </tr>\n",
       "    <tr>\n",
       "      <th>6</th>\n",
       "      <td>2</td>\n",
       "    </tr>\n",
       "    <tr>\n",
       "      <th>7</th>\n",
       "      <td>2</td>\n",
       "    </tr>\n",
       "    <tr>\n",
       "      <th>8</th>\n",
       "      <td>6</td>\n",
       "    </tr>\n",
       "    <tr>\n",
       "      <th>9</th>\n",
       "      <td>2</td>\n",
       "    </tr>\n",
       "  </tbody>\n",
       "</table>\n",
       "</div>"
      ],
      "text/plain": [
       "   value\n",
       "0      4\n",
       "1      2\n",
       "2      6\n",
       "3      1\n",
       "4      6\n",
       "5      6\n",
       "6      2\n",
       "7      2\n",
       "8      6\n",
       "9      2"
      ]
     },
     "execution_count": 50,
     "metadata": {},
     "output_type": "execute_result"
    }
   ],
   "source": [
    "# your code here\n",
    "\n",
    "#Option1\n",
    "dataset1 = np.random.randint(1,6,size = 10)\n",
    "dataset1\n",
    "\n",
    "#Option2\n",
    "dataset=random.choices(range(1,7), k = 10)\n",
    "\n",
    "#Store in dataframe:\n",
    "dice_rolls=pd.DataFrame(dataset,columns=['value'])\n",
    "dice_rolls"
   ]
  },
  {
   "cell_type": "markdown",
   "metadata": {},
   "source": [
    "#### 2.- Plot the results sorted by value."
   ]
  },
  {
   "cell_type": "code",
   "execution_count": 51,
   "metadata": {},
   "outputs": [
    {
     "data": {
      "text/html": [
       "<div>\n",
       "<style scoped>\n",
       "    .dataframe tbody tr th:only-of-type {\n",
       "        vertical-align: middle;\n",
       "    }\n",
       "\n",
       "    .dataframe tbody tr th {\n",
       "        vertical-align: top;\n",
       "    }\n",
       "\n",
       "    .dataframe thead th {\n",
       "        text-align: right;\n",
       "    }\n",
       "</style>\n",
       "<table border=\"1\" class=\"dataframe\">\n",
       "  <thead>\n",
       "    <tr style=\"text-align: right;\">\n",
       "      <th></th>\n",
       "      <th>value</th>\n",
       "    </tr>\n",
       "  </thead>\n",
       "  <tbody>\n",
       "    <tr>\n",
       "      <th>0</th>\n",
       "      <td>4</td>\n",
       "    </tr>\n",
       "    <tr>\n",
       "      <th>1</th>\n",
       "      <td>2</td>\n",
       "    </tr>\n",
       "    <tr>\n",
       "      <th>2</th>\n",
       "      <td>6</td>\n",
       "    </tr>\n",
       "    <tr>\n",
       "      <th>3</th>\n",
       "      <td>1</td>\n",
       "    </tr>\n",
       "    <tr>\n",
       "      <th>4</th>\n",
       "      <td>6</td>\n",
       "    </tr>\n",
       "    <tr>\n",
       "      <th>5</th>\n",
       "      <td>6</td>\n",
       "    </tr>\n",
       "    <tr>\n",
       "      <th>6</th>\n",
       "      <td>2</td>\n",
       "    </tr>\n",
       "    <tr>\n",
       "      <th>7</th>\n",
       "      <td>2</td>\n",
       "    </tr>\n",
       "    <tr>\n",
       "      <th>8</th>\n",
       "      <td>6</td>\n",
       "    </tr>\n",
       "    <tr>\n",
       "      <th>9</th>\n",
       "      <td>2</td>\n",
       "    </tr>\n",
       "  </tbody>\n",
       "</table>\n",
       "</div>"
      ],
      "text/plain": [
       "   value\n",
       "0      4\n",
       "1      2\n",
       "2      6\n",
       "3      1\n",
       "4      6\n",
       "5      6\n",
       "6      2\n",
       "7      2\n",
       "8      6\n",
       "9      2"
      ]
     },
     "metadata": {},
     "output_type": "display_data"
    },
    {
     "data": {
      "image/png": "[encoded data removed]",
      "text/plain": [
       "<Figure size 432x288 with 1 Axes>"
      ]
     },
     "metadata": {
      "needs_background": "light"
     },
     "output_type": "display_data"
    },
    {
     "data": {
      "text/plain": [
       "array([[<AxesSubplot:title={'center':'value'}>]], dtype=object)"
      ]
     },
     "execution_count": 51,
     "metadata": {},
     "output_type": "execute_result"
    },
    {
     "data": {
      "image/png": "[encoded data removed]",
      "text/plain": [
       "<Figure size 432x288 with 1 Axes>"
      ]
     },
     "metadata": {
      "needs_background": "light"
     },
     "output_type": "display_data"
    }
   ],
   "source": [
    "# your code here\n",
    "#dataset=np.sort(dice_rolls)\n",
    "#plt.hist(dice_rolls)\n",
    "\n",
    "#Sort:\n",
    "#dice_rolls = dice_rolls.sort_values('value')\n",
    "dice_rolls.sort_values(by='value')\n",
    "dice_rolls['value'].values.tolist()\n",
    "\n",
    "#Display:\n",
    "display(dice_rolls)\n",
    "\n",
    "#Histogram:\n",
    "###########\n",
    "#option1- matplotlib.pyplot hist():\n",
    "plt.hist(dice_rolls)\n",
    "plt.title('Roll a dice 10 times')\n",
    "plt.xlabel('Rolls')\n",
    "plt.ylabel('Frequency')\n",
    "plt.show()\n",
    "\n",
    "#option2- hist() from DataFrame:\n",
    "dice_rolls.hist()\n",
    "\n",
    "\n",
    "\n"
   ]
  },
  {
   "cell_type": "markdown",
   "metadata": {},
   "source": [
    "#### 3.- Calculate the frequency distribution and plot it. What is the relation between this plot and the plot above? Describe it with words."
   ]
  },
  {
   "cell_type": "code",
   "execution_count": 81,
   "metadata": {},
   "outputs": [
    {
     "name": "stdout",
     "output_type": "stream",
     "text": [
      "   Event  Frequency\n",
      "2      1          1\n",
      "0      2          4\n",
      "3      4          1\n",
      "1      6          4\n"
     ]
    }
   ],
   "source": [
    "# your code here\n",
    "\n",
    "df1 = dice_rolls.value_counts().reset_index() \n",
    "df1.columns = ['Event', 'Frequency']\n",
    "df1 = df1.sort_values('Event')\n",
    "print (df1)"
   ]
  },
  {
   "cell_type": "code",
   "execution_count": 82,
   "metadata": {},
   "outputs": [
    {
     "data": {
      "text/plain": [
       "<BarContainer object of 4 artists>"
      ]
     },
     "execution_count": 82,
     "metadata": {},
     "output_type": "execute_result"
    },
    {
     "data": {
      "image/png": "[encoded data removed]",
      "text/plain": [
       "<Figure size 432x288 with 1 Axes>"
      ]
     },
     "metadata": {
      "needs_background": "light"
     },
     "output_type": "display_data"
    }
   ],
   "source": [
    "plt.bar(df1['Event'],df1['Frequency'])"
   ]
  },
  {
   "cell_type": "code",
   "execution_count": null,
   "metadata": {},
   "outputs": [],
   "source": [
    "\"\"\"\n",
    "your comments here\n",
    "\n",
    "We can see than the histogram and the plot of the frequency distribution table is exactly the same.\n",
    "\"\"\""
   ]
  },
  {
   "cell_type": "markdown",
   "metadata": {},
   "source": [
    "## Challenge 2\n",
    "Now, using the dice results obtained in *challenge 1*, your are going to define some functions that will help you calculate the mean of your data in two different ways, the median and the four quartiles. \n",
    "\n",
    "#### 1.- Define a function that computes the mean by summing all the observations and dividing by the total number of observations. You are not allowed to use any methods or functions that directly calculate the mean value. "
   ]
  },
  {
   "cell_type": "code",
   "execution_count": 111,
   "metadata": {
    "scrolled": true
   },
   "outputs": [
    {
     "data": {
      "text/plain": [
       "3.7"
      ]
     },
     "execution_count": 111,
     "metadata": {},
     "output_type": "execute_result"
    }
   ],
   "source": [
    "# your code here\n",
    "#Test: my funciton should return 3.7 \n",
    "dice_rolls['value'].mean()"
   ]
  },
  {
   "cell_type": "code",
   "execution_count": 112,
   "metadata": {},
   "outputs": [
    {
     "data": {
      "text/html": [
       "<div>\n",
       "<style scoped>\n",
       "    .dataframe tbody tr th:only-of-type {\n",
       "        vertical-align: middle;\n",
       "    }\n",
       "\n",
       "    .dataframe tbody tr th {\n",
       "        vertical-align: top;\n",
       "    }\n",
       "\n",
       "    .dataframe thead th {\n",
       "        text-align: right;\n",
       "    }\n",
       "</style>\n",
       "<table border=\"1\" class=\"dataframe\">\n",
       "  <thead>\n",
       "    <tr style=\"text-align: right;\">\n",
       "      <th></th>\n",
       "      <th>value</th>\n",
       "    </tr>\n",
       "  </thead>\n",
       "  <tbody>\n",
       "    <tr>\n",
       "      <th>0</th>\n",
       "      <td>4</td>\n",
       "    </tr>\n",
       "    <tr>\n",
       "      <th>1</th>\n",
       "      <td>2</td>\n",
       "    </tr>\n",
       "    <tr>\n",
       "      <th>2</th>\n",
       "      <td>6</td>\n",
       "    </tr>\n",
       "    <tr>\n",
       "      <th>3</th>\n",
       "      <td>1</td>\n",
       "    </tr>\n",
       "    <tr>\n",
       "      <th>4</th>\n",
       "      <td>6</td>\n",
       "    </tr>\n",
       "    <tr>\n",
       "      <th>5</th>\n",
       "      <td>6</td>\n",
       "    </tr>\n",
       "    <tr>\n",
       "      <th>6</th>\n",
       "      <td>2</td>\n",
       "    </tr>\n",
       "    <tr>\n",
       "      <th>7</th>\n",
       "      <td>2</td>\n",
       "    </tr>\n",
       "    <tr>\n",
       "      <th>8</th>\n",
       "      <td>6</td>\n",
       "    </tr>\n",
       "    <tr>\n",
       "      <th>9</th>\n",
       "      <td>2</td>\n",
       "    </tr>\n",
       "  </tbody>\n",
       "</table>\n",
       "</div>"
      ],
      "text/plain": [
       "   value\n",
       "0      4\n",
       "1      2\n",
       "2      6\n",
       "3      1\n",
       "4      6\n",
       "5      6\n",
       "6      2\n",
       "7      2\n",
       "8      6\n",
       "9      2"
      ]
     },
     "execution_count": 112,
     "metadata": {},
     "output_type": "execute_result"
    }
   ],
   "source": [
    "dice_rolls"
   ]
  },
  {
   "cell_type": "code",
   "execution_count": 113,
   "metadata": {},
   "outputs": [
    {
     "data": {
      "text/plain": [
       "3.7"
      ]
     },
     "execution_count": 113,
     "metadata": {},
     "output_type": "execute_result"
    }
   ],
   "source": [
    "def calculate_mean(col):\n",
    "    num_elements=0\n",
    "    sum_elements=0\n",
    "    \n",
    "    for item in col:\n",
    "        sum_elements+=item\n",
    "        #num_elements+=1 #No need to use this variable since we have len()\n",
    "    \n",
    "    return sum_elements/len(col)\n",
    "        \n",
    "calculate_mean(dice_rolls['value'])"
   ]
  },
  {
   "cell_type": "markdown",
   "metadata": {},
   "source": [
    "#### 2.- First, calculate the frequency distribution. Then, calculate the mean using the values of the frequency distribution you've just computed. You are not allowed to use any methods or functions that directly calculate the mean value. "
   ]
  },
  {
   "cell_type": "code",
   "execution_count": 114,
   "metadata": {},
   "outputs": [
    {
     "name": "stdout",
     "output_type": "stream",
     "text": [
      "   Event  Frequency\n",
      "2      1          1\n",
      "0      2          4\n",
      "3      4          1\n",
      "1      6          4\n"
     ]
    }
   ],
   "source": [
    "# your code here\n",
    "#help from: https://stackoverflow.com/questions/41551658/how-to-create-a-frequency-distribution-table-on-given-data-with-python-in-jupyte\n",
    "df1 = dice_rolls.value_counts() \n",
    "df1 = df1.reset_index()\n",
    "#df1 = df1.sort_values('index')\n",
    "df1.columns = ['Event', 'Frequency']\n",
    "df1 = df1.sort_values('Event')\n",
    "print (df1)"
   ]
  },
  {
   "cell_type": "code",
   "execution_count": 115,
   "metadata": {},
   "outputs": [
    {
     "data": {
      "text/plain": [
       "3.7"
      ]
     },
     "execution_count": 115,
     "metadata": {},
     "output_type": "execute_result"
    }
   ],
   "source": [
    "def calculate_mean2(col_event,col_freq):\n",
    "    total_elements=0\n",
    "    sum_elements=0\n",
    "    \n",
    "    for event,freq in zip(col_event,col_freq):\n",
    "        sum_elements+=(event*freq)\n",
    "        total_elements+=freq\n",
    "        \n",
    "    return sum_elements/total_elements\n",
    "        \n",
    "calculate_mean2(df1['Event'],df1['Frequency'])"
   ]
  },
  {
   "cell_type": "markdown",
   "metadata": {},
   "source": [
    "#### 3.- Define a function to calculate the median. You are not allowed to use any methods or functions that directly calculate the median value. \n",
    "**Hint**: you might need to define two computation cases depending on the number of observations used to calculate the median."
   ]
  },
  {
   "cell_type": "code",
   "execution_count": 116,
   "metadata": {},
   "outputs": [
    {
     "data": {
      "text/plain": [
       "value    3.0\n",
       "dtype: float64"
      ]
     },
     "execution_count": 116,
     "metadata": {},
     "output_type": "execute_result"
    }
   ],
   "source": [
    "# your code here\n",
    "#first I check the result:\n",
    "dice_rolls.median()"
   ]
  },
  {
   "cell_type": "code",
   "execution_count": 123,
   "metadata": {
    "scrolled": false
   },
   "outputs": [],
   "source": [
    "dice_rolls_sorted=dice_rolls.sort_values(by='value')"
   ]
  },
  {
   "cell_type": "code",
   "execution_count": 127,
   "metadata": {
    "scrolled": true
   },
   "outputs": [],
   "source": [
    "dice_rolls_sorted=dice_rolls_sorted.reset_index()"
   ]
  },
  {
   "cell_type": "code",
   "execution_count": 134,
   "metadata": {},
   "outputs": [],
   "source": [
    "dice_rolls_sorted = dice_rolls_sorted.drop ('index',axis=1)"
   ]
  },
  {
   "cell_type": "code",
   "execution_count": 135,
   "metadata": {},
   "outputs": [
    {
     "data": {
      "text/html": [
       "<div>\n",
       "<style scoped>\n",
       "    .dataframe tbody tr th:only-of-type {\n",
       "        vertical-align: middle;\n",
       "    }\n",
       "\n",
       "    .dataframe tbody tr th {\n",
       "        vertical-align: top;\n",
       "    }\n",
       "\n",
       "    .dataframe thead th {\n",
       "        text-align: right;\n",
       "    }\n",
       "</style>\n",
       "<table border=\"1\" class=\"dataframe\">\n",
       "  <thead>\n",
       "    <tr style=\"text-align: right;\">\n",
       "      <th></th>\n",
       "      <th>value</th>\n",
       "    </tr>\n",
       "  </thead>\n",
       "  <tbody>\n",
       "    <tr>\n",
       "      <th>0</th>\n",
       "      <td>1</td>\n",
       "    </tr>\n",
       "    <tr>\n",
       "      <th>1</th>\n",
       "      <td>2</td>\n",
       "    </tr>\n",
       "    <tr>\n",
       "      <th>2</th>\n",
       "      <td>2</td>\n",
       "    </tr>\n",
       "    <tr>\n",
       "      <th>3</th>\n",
       "      <td>2</td>\n",
       "    </tr>\n",
       "    <tr>\n",
       "      <th>4</th>\n",
       "      <td>2</td>\n",
       "    </tr>\n",
       "    <tr>\n",
       "      <th>5</th>\n",
       "      <td>4</td>\n",
       "    </tr>\n",
       "    <tr>\n",
       "      <th>6</th>\n",
       "      <td>6</td>\n",
       "    </tr>\n",
       "    <tr>\n",
       "      <th>7</th>\n",
       "      <td>6</td>\n",
       "    </tr>\n",
       "    <tr>\n",
       "      <th>8</th>\n",
       "      <td>6</td>\n",
       "    </tr>\n",
       "    <tr>\n",
       "      <th>9</th>\n",
       "      <td>6</td>\n",
       "    </tr>\n",
       "  </tbody>\n",
       "</table>\n",
       "</div>"
      ],
      "text/plain": [
       "   value\n",
       "0      1\n",
       "1      2\n",
       "2      2\n",
       "3      2\n",
       "4      2\n",
       "5      4\n",
       "6      6\n",
       "7      6\n",
       "8      6\n",
       "9      6"
      ]
     },
     "execution_count": 135,
     "metadata": {},
     "output_type": "execute_result"
    }
   ],
   "source": [
    "dice_rolls_sorted"
   ]
  },
  {
   "cell_type": "code",
   "execution_count": 143,
   "metadata": {},
   "outputs": [
    {
     "data": {
      "text/plain": [
       "[1, 2, 2, 2, 2, 4, 6, 6, 6, 6]"
      ]
     },
     "execution_count": 143,
     "metadata": {},
     "output_type": "execute_result"
    }
   ],
   "source": [
    "dice_rolls_sorted_list=list(dice_rolls_sorted['value'])\n",
    "dice_rolls_sorted_list"
   ]
  },
  {
   "cell_type": "code",
   "execution_count": 157,
   "metadata": {},
   "outputs": [],
   "source": [
    "def calculate_median(mylist):\n",
    "    if len(mylist)% 2 == 0: #num is even\n",
    "        return (mylist[(len(mylist)//2)-1]+mylist[len(mylist)//2] )/ 2\n",
    "    else: #num is odd\n",
    "        #return Math.floor(mylist[len(mylist)/2])\n",
    "        #same as \n",
    "        return mylist[len(mylist)//2]\n",
    "\n"
   ]
  },
  {
   "cell_type": "code",
   "execution_count": 161,
   "metadata": {},
   "outputs": [
    {
     "data": {
      "text/plain": [
       "(2, 1.5)"
      ]
     },
     "execution_count": 161,
     "metadata": {},
     "output_type": "execute_result"
    }
   ],
   "source": [
    "#test:\n",
    "calculate_median([1,2,3]),calculate_median([1,2])"
   ]
  },
  {
   "cell_type": "code",
   "execution_count": null,
   "metadata": {},
   "outputs": [],
   "source": [
    "calculate_median(dice_rolls_sorted_list)"
   ]
  },
  {
   "cell_type": "markdown",
   "metadata": {},
   "source": [
    "#### 4.- Define a function to calculate the four quartiles. You can use the function you defined above to compute the median but you are not allowed to use any methods or functions that directly calculate the quartiles. "
   ]
  },
  {
   "cell_type": "code",
   "execution_count": 164,
   "metadata": {},
   "outputs": [
    {
     "name": "stdout",
     "output_type": "stream",
     "text": [
      "62.5 34.0 96.5\n"
     ]
    }
   ],
   "source": [
    "# your code here\n",
    "\n",
    "#example:\n",
    "data = [32, 36, 46, 47, 56, 69, 75, 79, 79, 88, 89, 91, 92, 93, 96, 97, \n",
    "        101, 105, 112, 116]\n",
    "  \n",
    "# First quartile (Q1)\n",
    "Q1 = np.median(data[:10])\n",
    "  \n",
    "# Third quartile (Q3)\n",
    "Q3 = np.median(data[10:])\n",
    "  \n",
    "# Interquartile range (IQR)\n",
    "IQR = Q3 - Q1\n",
    "  \n",
    "print(Q1,IQR,Q3)"
   ]
  },
  {
   "cell_type": "code",
   "execution_count": 169,
   "metadata": {},
   "outputs": [
    {
     "name": "stdout",
     "output_type": "stream",
     "text": [
      "2 3.0 4 6\n"
     ]
    }
   ],
   "source": [
    "# First quartile (Q1)\n",
    "#5= len(dice_rolls_sorted_list)/2\n",
    "#Q1 = np.median(dice_rolls_sorted_list[:5])\n",
    "Q1 = calculate_median(dice_rolls_sorted_list[:5])\n",
    "\n",
    "# Second quartile (Q2) - Median\n",
    "Q2 = calculate_median(dice_rolls_sorted_list)\n",
    "\n",
    "# Third quartile (Q3)\n",
    "#Q3 = np.median(dice_rolls_sorted_list[5:])\n",
    "Q3 = calculate_median(dice_rolls_sorted_list[5:]) \n",
    "\n",
    "# Interquartile range (IQR)\n",
    "IQR = Q3 - Q1\n",
    "  \n",
    "print(Q1,Q2,IQR,Q3) #2 3.0 4 6"
   ]
  },
  {
   "cell_type": "markdown",
   "metadata": {},
   "source": [
    "## Challenge 3\n",
    "Read the csv `roll_the_dice_hundred.csv` from the `data` folder.\n",
    "#### 1.- Sort the values and plot them. What do you see?"
   ]
  },
  {
   "cell_type": "code",
   "execution_count": 104,
   "metadata": {},
   "outputs": [
    {
     "data": {
      "text/html": [
       "<div>\n",
       "<style scoped>\n",
       "    .dataframe tbody tr th:only-of-type {\n",
       "        vertical-align: middle;\n",
       "    }\n",
       "\n",
       "    .dataframe tbody tr th {\n",
       "        vertical-align: top;\n",
       "    }\n",
       "\n",
       "    .dataframe thead th {\n",
       "        text-align: right;\n",
       "    }\n",
       "</style>\n",
       "<table border=\"1\" class=\"dataframe\">\n",
       "  <thead>\n",
       "    <tr style=\"text-align: right;\">\n",
       "      <th></th>\n",
       "      <th>Unnamed: 0</th>\n",
       "      <th>roll</th>\n",
       "      <th>value</th>\n",
       "    </tr>\n",
       "  </thead>\n",
       "  <tbody>\n",
       "    <tr>\n",
       "      <th>0</th>\n",
       "      <td>0</td>\n",
       "      <td>0</td>\n",
       "      <td>1</td>\n",
       "    </tr>\n",
       "    <tr>\n",
       "      <th>1</th>\n",
       "      <td>1</td>\n",
       "      <td>1</td>\n",
       "      <td>2</td>\n",
       "    </tr>\n",
       "    <tr>\n",
       "      <th>2</th>\n",
       "      <td>2</td>\n",
       "      <td>2</td>\n",
       "      <td>6</td>\n",
       "    </tr>\n",
       "    <tr>\n",
       "      <th>3</th>\n",
       "      <td>3</td>\n",
       "      <td>3</td>\n",
       "      <td>1</td>\n",
       "    </tr>\n",
       "    <tr>\n",
       "      <th>4</th>\n",
       "      <td>4</td>\n",
       "      <td>4</td>\n",
       "      <td>6</td>\n",
       "    </tr>\n",
       "  </tbody>\n",
       "</table>\n",
       "</div>"
      ],
      "text/plain": [
       "   Unnamed: 0  roll  value\n",
       "0           0     0      1\n",
       "1           1     1      2\n",
       "2           2     2      6\n",
       "3           3     3      1\n",
       "4           4     4      6"
      ]
     },
     "execution_count": 104,
     "metadata": {},
     "output_type": "execute_result"
    }
   ],
   "source": [
    "# your code here\n",
    "dice_hundred=pd.read_csv('../data/roll_the_dice_hundred.csv')\n",
    "dice_hundred.head()\n"
   ]
  },
  {
   "cell_type": "code",
   "execution_count": 103,
   "metadata": {},
   "outputs": [
    {
     "data": {
      "text/plain": [
       "(100, 3)"
      ]
     },
     "execution_count": 103,
     "metadata": {},
     "output_type": "execute_result"
    }
   ],
   "source": [
    "dice_hundred.shape\n",
    "#(100, 3)"
   ]
  },
  {
   "cell_type": "code",
   "execution_count": null,
   "metadata": {},
   "outputs": [],
   "source": [
    "\"\"\"\n",
    "your comments here\n",
    "\n",
    "The dice_hudred table has counts over a dice rolled 100 times (so 100 rows) and the nubmer (value) obtained.\n",
    "The fist column is unnecessary.\n",
    "\n",
    "\n",
    "\"\"\""
   ]
  },
  {
   "cell_type": "markdown",
   "metadata": {},
   "source": [
    "#### 2.- Using the functions you defined in *challenge 2*, calculate the mean value of the hundred dice rolls."
   ]
  },
  {
   "cell_type": "code",
   "execution_count": 105,
   "metadata": {},
   "outputs": [
    {
     "data": {
      "text/plain": [
       "3.74"
      ]
     },
     "execution_count": 105,
     "metadata": {},
     "output_type": "execute_result"
    }
   ],
   "source": [
    "calculate_mean(dice_hundred['value'])"
   ]
  },
  {
   "cell_type": "markdown",
   "metadata": {},
   "source": [
    "#### 3.- Now, calculate the frequency distribution.\n"
   ]
  },
  {
   "cell_type": "code",
   "execution_count": 107,
   "metadata": {},
   "outputs": [
    {
     "name": "stdout",
     "output_type": "stream",
     "text": [
      "   Event  Frequency\n",
      "4      1         12\n",
      "2      2         17\n",
      "3      3         14\n",
      "1      4         22\n",
      "5      5         12\n",
      "0      6         23\n"
     ]
    }
   ],
   "source": [
    "# your code here\n",
    "df1 = dice_hundred['value'].value_counts() \n",
    "df1 = df1.reset_index()\n",
    "#df1 = df1.sort_values('index')\n",
    "df1.columns = ['Event', 'Frequency']\n",
    "df1 = df1.sort_values('Event')\n",
    "print (df1)"
   ]
  },
  {
   "cell_type": "markdown",
   "metadata": {},
   "source": [
    "#### 4.- Plot the histogram. What do you see (shape, values...) ? How can you connect the mean value to the histogram? "
   ]
  },
  {
   "cell_type": "code",
   "execution_count": 108,
   "metadata": {},
   "outputs": [
    {
     "data": {
      "text/plain": [
       "<AxesSubplot:>"
      ]
     },
     "execution_count": 108,
     "metadata": {},
     "output_type": "execute_result"
    },
    {
     "data": {
      "image/png": "[encoded data removed]",
      "text/plain": [
       "<Figure size 432x288 with 1 Axes>"
      ]
     },
     "metadata": {
      "needs_background": "light"
     },
     "output_type": "display_data"
    }
   ],
   "source": [
    "# your code here\n",
    "dice_hundred['value'].hist()"
   ]
  },
  {
   "cell_type": "code",
   "execution_count": null,
   "metadata": {},
   "outputs": [],
   "source": [
    "\"\"\"\n",
    "your comments here\n",
    "\n",
    "We can observe in this plot that there is an increase in the higher values obtained. Not for all, it doesn´t happen with 3 and 5\n",
    "\n",
    "Mean is 3.74. Most obtained values are 4 and 6, so it makes sense this mean.\n",
    "\"\"\""
   ]
  },
  {
   "cell_type": "markdown",
   "metadata": {},
   "source": [
    "#### 5.- Read the `roll_the_dice_thousand.csv` from the `data` folder. Plot the frequency distribution as you did before. Has anything changed? Why do you think it changed?"
   ]
  },
  {
   "cell_type": "code",
   "execution_count": 110,
   "metadata": {},
   "outputs": [
    {
     "data": {
      "text/plain": [
       "<AxesSubplot:>"
      ]
     },
     "execution_count": 110,
     "metadata": {},
     "output_type": "execute_result"
    },
    {
     "data": {
      "image/png": "[encoded data removed]",
      "text/plain": [
       "<Figure size 432x288 with 1 Axes>"
      ]
     },
     "metadata": {
      "needs_background": "light"
     },
     "output_type": "display_data"
    }
   ],
   "source": [
    "# your code here\n",
    "dice_thousand=pd.read_csv('../data/roll_the_dice_thousand.csv')\n",
    "dice_thousand['value'].hist()"
   ]
  },
  {
   "cell_type": "code",
   "execution_count": null,
   "metadata": {},
   "outputs": [],
   "source": [
    "\"\"\"\n",
    "your comments here\n",
    "\n",
    "Now that the dice as been rolled more times, almost every number has the same frequency. If we would keep increasing the number of \n",
    "times we roll the dice, there would be a tencendy to the same number of frequency for each num.\n",
    "\"\"\""
   ]
  },
  {
   "cell_type": "markdown",
   "metadata": {},
   "source": [
    "## Challenge 4\n",
    "In the `data` folder of this repository you will find three different files with the prefix `ages_population`. These files contain information about a poll answered by a thousand people regarding their age. Each file corresponds to the poll answers in different neighbourhoods of Barcelona.\n",
    "\n",
    "#### 1.- Read the file `ages_population.csv`. Calculate the frequency distribution and plot it as we did during the lesson. Try to guess the range in which the mean and the standard deviation will be by looking at the plot. "
   ]
  },
  {
   "cell_type": "code",
   "execution_count": 170,
   "metadata": {},
   "outputs": [
    {
     "data": {
      "text/html": [
       "<div>\n",
       "<style scoped>\n",
       "    .dataframe tbody tr th:only-of-type {\n",
       "        vertical-align: middle;\n",
       "    }\n",
       "\n",
       "    .dataframe tbody tr th {\n",
       "        vertical-align: top;\n",
       "    }\n",
       "\n",
       "    .dataframe thead th {\n",
       "        text-align: right;\n",
       "    }\n",
       "</style>\n",
       "<table border=\"1\" class=\"dataframe\">\n",
       "  <thead>\n",
       "    <tr style=\"text-align: right;\">\n",
       "      <th></th>\n",
       "      <th>observation</th>\n",
       "    </tr>\n",
       "  </thead>\n",
       "  <tbody>\n",
       "    <tr>\n",
       "      <th>0</th>\n",
       "      <td>68.0</td>\n",
       "    </tr>\n",
       "    <tr>\n",
       "      <th>1</th>\n",
       "      <td>12.0</td>\n",
       "    </tr>\n",
       "    <tr>\n",
       "      <th>2</th>\n",
       "      <td>45.0</td>\n",
       "    </tr>\n",
       "    <tr>\n",
       "      <th>3</th>\n",
       "      <td>38.0</td>\n",
       "    </tr>\n",
       "    <tr>\n",
       "      <th>4</th>\n",
       "      <td>49.0</td>\n",
       "    </tr>\n",
       "  </tbody>\n",
       "</table>\n",
       "</div>"
      ],
      "text/plain": [
       "   observation\n",
       "0         68.0\n",
       "1         12.0\n",
       "2         45.0\n",
       "3         38.0\n",
       "4         49.0"
      ]
     },
     "execution_count": 170,
     "metadata": {},
     "output_type": "execute_result"
    }
   ],
   "source": [
    "# your code here\n",
    "ages_population1=pd.read_csv('../data/ages_population.csv')\n",
    "ages_population1.head()"
   ]
  },
  {
   "cell_type": "code",
   "execution_count": 171,
   "metadata": {
    "scrolled": true
   },
   "outputs": [
    {
     "data": {
      "text/plain": [
       "array([[<AxesSubplot:title={'center':'observation'}>]], dtype=object)"
      ]
     },
     "execution_count": 171,
     "metadata": {},
     "output_type": "execute_result"
    },
    {
     "data": {
      "image/png": "[encoded data removed]",
      "text/plain": [
       "<Figure size 432x288 with 1 Axes>"
      ]
     },
     "metadata": {
      "needs_background": "light"
     },
     "output_type": "display_data"
    }
   ],
   "source": [
    "ages_population1.hist()"
   ]
  },
  {
   "cell_type": "code",
   "execution_count": 172,
   "metadata": {},
   "outputs": [
    {
     "name": "stdout",
     "output_type": "stream",
     "text": [
      "    Event  Frequency\n",
      "57    1.0          2\n",
      "58    2.0          2\n",
      "66    4.0          1\n",
      "60    5.0          2\n",
      "63    6.0          2\n",
      "..    ...        ...\n",
      "71   69.0          1\n",
      "69   70.0          1\n",
      "70   71.0          1\n",
      "67   73.0          1\n",
      "68   82.0          1\n",
      "\n",
      "[72 rows x 2 columns]\n"
     ]
    }
   ],
   "source": [
    "df1 = ages_population1['observation'].value_counts() \n",
    "df1 = df1.reset_index()\n",
    "#df1 = df1.sort_values('index')\n",
    "df1.columns = ['Event', 'Frequency']\n",
    "df1 = df1.sort_values('Event')\n",
    "print (df1)"
   ]
  },
  {
   "cell_type": "markdown",
   "metadata": {},
   "source": [
    "#### 2.- Calculate the exact mean and standard deviation and compare them with your guesses. Do they fall inside the ranges you guessed?"
   ]
  },
  {
   "cell_type": "code",
   "execution_count": 175,
   "metadata": {},
   "outputs": [
    {
     "data": {
      "text/plain": [
       "observation    12.81009\n",
       "dtype: float64"
      ]
     },
     "execution_count": 175,
     "metadata": {},
     "output_type": "execute_result"
    }
   ],
   "source": [
    "# your code here\n",
    "#mean:\n",
    "ages_population1.mean() #36.56\n",
    "#std\n",
    "np.std(ages_population1) #12.81009\n",
    "\n"
   ]
  },
  {
   "cell_type": "code",
   "execution_count": null,
   "metadata": {},
   "outputs": [],
   "source": [
    "\"\"\"\n",
    "your comments here\n",
    "\n",
    "Loooking at the histogram graph and the value of the mean=36.56. We can see that data follows a Normal distribution,\n",
    "distributed among its mean.\n",
    "\n",
    "Also we see that interval [mean-std , mean+std] contains nearly 70% of the population.\n",
    "Those are properties of the Normal distribution. \n",
    "\n",
    "It is normal skewed. The histogram represent a nearly perfect symmetric distribution.\n",
    "\n",
    "\"\"\""
   ]
  },
  {
   "cell_type": "markdown",
   "metadata": {},
   "source": [
    "#### 3.- Now read the file `ages_population2.csv` . Calculate the frequency distribution and plot it."
   ]
  },
  {
   "cell_type": "code",
   "execution_count": 176,
   "metadata": {
    "scrolled": true
   },
   "outputs": [
    {
     "data": {
      "text/html": [
       "<div>\n",
       "<style scoped>\n",
       "    .dataframe tbody tr th:only-of-type {\n",
       "        vertical-align: middle;\n",
       "    }\n",
       "\n",
       "    .dataframe tbody tr th {\n",
       "        vertical-align: top;\n",
       "    }\n",
       "\n",
       "    .dataframe thead th {\n",
       "        text-align: right;\n",
       "    }\n",
       "</style>\n",
       "<table border=\"1\" class=\"dataframe\">\n",
       "  <thead>\n",
       "    <tr style=\"text-align: right;\">\n",
       "      <th></th>\n",
       "      <th>observation</th>\n",
       "    </tr>\n",
       "  </thead>\n",
       "  <tbody>\n",
       "    <tr>\n",
       "      <th>0</th>\n",
       "      <td>25.0</td>\n",
       "    </tr>\n",
       "    <tr>\n",
       "      <th>1</th>\n",
       "      <td>31.0</td>\n",
       "    </tr>\n",
       "    <tr>\n",
       "      <th>2</th>\n",
       "      <td>29.0</td>\n",
       "    </tr>\n",
       "    <tr>\n",
       "      <th>3</th>\n",
       "      <td>31.0</td>\n",
       "    </tr>\n",
       "    <tr>\n",
       "      <th>4</th>\n",
       "      <td>29.0</td>\n",
       "    </tr>\n",
       "  </tbody>\n",
       "</table>\n",
       "</div>"
      ],
      "text/plain": [
       "   observation\n",
       "0         25.0\n",
       "1         31.0\n",
       "2         29.0\n",
       "3         31.0\n",
       "4         29.0"
      ]
     },
     "execution_count": 176,
     "metadata": {},
     "output_type": "execute_result"
    }
   ],
   "source": [
    "# your code here\n",
    "ages_population2=pd.read_csv('../data/ages_population2.csv')\n",
    "ages_population2.head()"
   ]
  },
  {
   "cell_type": "code",
   "execution_count": 177,
   "metadata": {
    "scrolled": true
   },
   "outputs": [
    {
     "data": {
      "text/plain": [
       "array([[<AxesSubplot:title={'center':'observation'}>]], dtype=object)"
      ]
     },
     "execution_count": 177,
     "metadata": {},
     "output_type": "execute_result"
    },
    {
     "data": {
      "image/png": "[encoded data removed]",
      "text/plain": [
       "<Figure size 432x288 with 1 Axes>"
      ]
     },
     "metadata": {
      "needs_background": "light"
     },
     "output_type": "display_data"
    }
   ],
   "source": [
    "ages_population2.hist()"
   ]
  },
  {
   "cell_type": "code",
   "execution_count": 178,
   "metadata": {
    "scrolled": true
   },
   "outputs": [
    {
     "name": "stdout",
     "output_type": "stream",
     "text": [
      "    Event  Frequency\n",
      "15   19.0          3\n",
      "13   20.0         13\n",
      "12   21.0         17\n",
      "9    22.0         35\n",
      "8    23.0         41\n",
      "6    24.0         78\n",
      "4    25.0         98\n",
      "2    26.0        120\n",
      "1    27.0        125\n",
      "0    28.0        139\n",
      "3    29.0        115\n",
      "5    30.0         90\n",
      "7    31.0         61\n",
      "10   32.0         31\n",
      "11   33.0         22\n",
      "14   34.0          7\n",
      "16   35.0          3\n",
      "17   36.0          2\n"
     ]
    }
   ],
   "source": [
    "df1 = ages_population2['observation'].value_counts() \n",
    "df1 = df1.reset_index()\n",
    "#df1 = df1.sort_values('index')\n",
    "df1.columns = ['Event', 'Frequency']\n",
    "df1 = df1.sort_values('Event')\n",
    "print (df1)"
   ]
  },
  {
   "cell_type": "markdown",
   "metadata": {},
   "source": [
    "####  4.- What do you see? Is there any difference with the frequency distribution in step 1?"
   ]
  },
  {
   "cell_type": "code",
   "execution_count": null,
   "metadata": {},
   "outputs": [],
   "source": [
    "\"\"\"\n",
    "your comments here\n",
    "\n",
    "In this scenario, people is distributed around 27.5 mainly. Then the number of people with other age is quite low.\n",
    "\n",
    "\"\"\""
   ]
  },
  {
   "cell_type": "markdown",
   "metadata": {},
   "source": [
    "#### 5.- Calculate the mean and standard deviation. Compare the results with the mean and standard deviation in step 2. What do you think?"
   ]
  },
  {
   "cell_type": "code",
   "execution_count": null,
   "metadata": {},
   "outputs": [],
   "source": [
    "# your code here\n",
    "#mean:\n",
    "#std\n",
    "ages_population2.mean(), np.std(ages_population2) # 27.155 2.968329\n"
   ]
  },
  {
   "cell_type": "code",
   "execution_count": null,
   "metadata": {},
   "outputs": [],
   "source": [
    "\"\"\"\n",
    "your comments here\n",
    "In this scenario, mean is 27.155 and standar deviation is only 2.968329 which means that nearly 70% of the population\n",
    "is in the interval [27.155-2.968329,27.155+2.968329].\n",
    "In other words, almost 70% of the people is between 24 and 30 years old.\n",
    "\n",
    "It is normal skewed. The histogram represent a nearly perfect symmetric distribution.\n",
    "\"\"\""
   ]
  },
  {
   "cell_type": "markdown",
   "metadata": {},
   "source": [
    "## Challenge 5\n",
    "Now is the turn of `ages_population3.csv`.\n",
    "\n",
    "#### 1.- Read the file `ages_population3.csv`. Calculate the frequency distribution and plot it."
   ]
  },
  {
   "cell_type": "code",
   "execution_count": 181,
   "metadata": {},
   "outputs": [
    {
     "name": "stdout",
     "output_type": "stream",
     "text": [
      "    Event  Frequency\n",
      "73    1.0          1\n",
      "68    2.0          2\n",
      "66    4.0          2\n",
      "69    5.0          1\n",
      "74    7.0          1\n",
      "..    ...        ...\n",
      "57   73.0          6\n",
      "55   74.0          6\n",
      "63   75.0          2\n",
      "70   76.0          1\n",
      "64   77.0          2\n",
      "\n",
      "[75 rows x 2 columns]\n"
     ]
    },
    {
     "data": {
      "image/png": "[encoded data removed]",
      "text/plain": [
       "<Figure size 432x288 with 1 Axes>"
      ]
     },
     "metadata": {
      "needs_background": "light"
     },
     "output_type": "display_data"
    }
   ],
   "source": [
    "# your code here\n",
    "ages_population3=pd.read_csv('../data/ages_population3.csv')\n",
    "ages_population3.head()\n",
    "ages_population3.hist()\n",
    "df1 = ages_population3['observation'].value_counts() \n",
    "df1 = df1.reset_index()\n",
    "#df1 = df1.sort_values('index')\n",
    "df1.columns = ['Event', 'Frequency']\n",
    "df1 = df1.sort_values('Event')\n",
    "print (df1)"
   ]
  },
  {
   "cell_type": "markdown",
   "metadata": {},
   "source": [
    "#### 2.- Calculate the mean and standard deviation. Compare the results with the plot in step 1. What is happening?"
   ]
  },
  {
   "cell_type": "code",
   "execution_count": 186,
   "metadata": {},
   "outputs": [
    {
     "data": {
      "text/plain": [
       "(observation    41.989\n",
       " dtype: float64,\n",
       " observation    16.136632\n",
       " dtype: float64)"
      ]
     },
     "execution_count": 186,
     "metadata": {},
     "output_type": "execute_result"
    }
   ],
   "source": [
    "# your code here\n",
    "#mean:\n",
    "#std\n",
    "ages_population3.mean(), np.std(ages_population3) #41.989 2.968329"
   ]
  },
  {
   "cell_type": "code",
   "execution_count": 185,
   "metadata": {
    "scrolled": true
   },
   "outputs": [
    {
     "data": {
      "text/plain": [
       "(observation    41.989\n",
       " dtype: float64,\n",
       " 40.0,\n",
       "    observation\n",
       " 0         32.0)"
      ]
     },
     "execution_count": 185,
     "metadata": {},
     "output_type": "execute_result"
    }
   ],
   "source": [
    "ages_population3.mean(),np.median(ages_population3),ages_population3.mode()"
   ]
  },
  {
   "cell_type": "code",
   "execution_count": 187,
   "metadata": {},
   "outputs": [
    {
     "data": {
      "text/plain": [
       "array([[<AxesSubplot:title={'center':'observation'}>]], dtype=object)"
      ]
     },
     "execution_count": 187,
     "metadata": {},
     "output_type": "execute_result"
    },
    {
     "data": {
      "image/png": "[encoded data removed]",
      "text/plain": [
       "<Figure size 432x288 with 1 Axes>"
      ]
     },
     "metadata": {
      "needs_background": "light"
     },
     "output_type": "display_data"
    }
   ],
   "source": [
    "ages_population3.hist()"
   ]
  },
  {
   "cell_type": "code",
   "execution_count": null,
   "metadata": {},
   "outputs": [],
   "source": [
    "\"\"\"\n",
    "your comments here\n",
    "\n",
    "We can see that is positive  skewed wih mean=41.989 median=40.0 mode=32.\n",
    "This case is not a nearly perfect Gauss bell as happened with the other 2 histograms.\n",
    "\n",
    "\n",
    "\"\"\""
   ]
  },
  {
   "cell_type": "markdown",
   "metadata": {},
   "source": [
    "#### 3.- Calculate the four quartiles. Use the results to explain your reasoning for question in step 2. How much of a difference is there between the median and the mean?"
   ]
  },
  {
   "cell_type": "code",
   "execution_count": 188,
   "metadata": {},
   "outputs": [
    {
     "data": {
      "text/plain": [
       "(1000, 1)"
      ]
     },
     "execution_count": 188,
     "metadata": {},
     "output_type": "execute_result"
    }
   ],
   "source": [
    "ages_population3.shape"
   ]
  },
  {
   "cell_type": "code",
   "execution_count": 189,
   "metadata": {},
   "outputs": [
    {
     "data": {
      "text/html": [
       "<div>\n",
       "<style scoped>\n",
       "    .dataframe tbody tr th:only-of-type {\n",
       "        vertical-align: middle;\n",
       "    }\n",
       "\n",
       "    .dataframe tbody tr th {\n",
       "        vertical-align: top;\n",
       "    }\n",
       "\n",
       "    .dataframe thead th {\n",
       "        text-align: right;\n",
       "    }\n",
       "</style>\n",
       "<table border=\"1\" class=\"dataframe\">\n",
       "  <thead>\n",
       "    <tr style=\"text-align: right;\">\n",
       "      <th></th>\n",
       "      <th>observation</th>\n",
       "    </tr>\n",
       "  </thead>\n",
       "  <tbody>\n",
       "    <tr>\n",
       "      <th>0</th>\n",
       "      <td>21.0</td>\n",
       "    </tr>\n",
       "    <tr>\n",
       "      <th>1</th>\n",
       "      <td>21.0</td>\n",
       "    </tr>\n",
       "    <tr>\n",
       "      <th>2</th>\n",
       "      <td>24.0</td>\n",
       "    </tr>\n",
       "    <tr>\n",
       "      <th>3</th>\n",
       "      <td>31.0</td>\n",
       "    </tr>\n",
       "    <tr>\n",
       "      <th>4</th>\n",
       "      <td>54.0</td>\n",
       "    </tr>\n",
       "    <tr>\n",
       "      <th>...</th>\n",
       "      <td>...</td>\n",
       "    </tr>\n",
       "    <tr>\n",
       "      <th>995</th>\n",
       "      <td>16.0</td>\n",
       "    </tr>\n",
       "    <tr>\n",
       "      <th>996</th>\n",
       "      <td>55.0</td>\n",
       "    </tr>\n",
       "    <tr>\n",
       "      <th>997</th>\n",
       "      <td>30.0</td>\n",
       "    </tr>\n",
       "    <tr>\n",
       "      <th>998</th>\n",
       "      <td>35.0</td>\n",
       "    </tr>\n",
       "    <tr>\n",
       "      <th>999</th>\n",
       "      <td>43.0</td>\n",
       "    </tr>\n",
       "  </tbody>\n",
       "</table>\n",
       "<p>1000 rows × 1 columns</p>\n",
       "</div>"
      ],
      "text/plain": [
       "     observation\n",
       "0           21.0\n",
       "1           21.0\n",
       "2           24.0\n",
       "3           31.0\n",
       "4           54.0\n",
       "..           ...\n",
       "995         16.0\n",
       "996         55.0\n",
       "997         30.0\n",
       "998         35.0\n",
       "999         43.0\n",
       "\n",
       "[1000 rows x 1 columns]"
      ]
     },
     "execution_count": 189,
     "metadata": {},
     "output_type": "execute_result"
    }
   ],
   "source": [
    "ages_population3"
   ]
  },
  {
   "cell_type": "code",
   "execution_count": 195,
   "metadata": {},
   "outputs": [
    {
     "name": "stdout",
     "output_type": "stream",
     "text": [
      "     observation\n",
      "263          1.0\n",
      "924          2.0\n",
      "415          2.0\n",
      "639          4.0\n",
      "698          4.0\n",
      "..           ...\n",
      "76          75.0\n",
      "323         75.0\n",
      "12          76.0\n",
      "937         77.0\n",
      "218         77.0\n",
      "\n",
      "[1000 rows x 1 columns]\n",
      "     index  observation\n",
      "0      263          1.0\n",
      "1      924          2.0\n",
      "2      415          2.0\n",
      "3      639          4.0\n",
      "4      698          4.0\n",
      "..     ...          ...\n",
      "995     76         75.0\n",
      "996    323         75.0\n",
      "997     12         76.0\n",
      "998    937         77.0\n",
      "999    218         77.0\n",
      "\n",
      "[1000 rows x 2 columns]\n"
     ]
    },
    {
     "data": {
      "text/plain": [
       "[1.0,\n",
       " 2.0,\n",
       " 2.0,\n",
       " 4.0,\n",
       " 4.0,\n",
       " 5.0,\n",
       " 7.0,\n",
       " 8.0,\n",
       " 9.0,\n",
       " 10.0,\n",
       " 10.0,\n",
       " 11.0,\n",
       " 11.0,\n",
       " 12.0,\n",
       " 12.0,\n",
       " 12.0,\n",
       " 12.0,\n",
       " 13.0,\n",
       " 13.0,\n",
       " 14.0,\n",
       " 14.0,\n",
       " 14.0,\n",
       " 14.0,\n",
       " 14.0,\n",
       " 15.0,\n",
       " 15.0,\n",
       " 15.0,\n",
       " 15.0,\n",
       " 15.0,\n",
       " 15.0,\n",
       " 15.0,\n",
       " 15.0,\n",
       " 16.0,\n",
       " 16.0,\n",
       " 16.0,\n",
       " 16.0,\n",
       " 16.0,\n",
       " 16.0,\n",
       " 16.0,\n",
       " 16.0,\n",
       " 16.0,\n",
       " 17.0,\n",
       " 17.0,\n",
       " 17.0,\n",
       " 17.0,\n",
       " 17.0,\n",
       " 17.0,\n",
       " 17.0,\n",
       " 17.0,\n",
       " 17.0,\n",
       " 17.0,\n",
       " 18.0,\n",
       " 18.0,\n",
       " 18.0,\n",
       " 18.0,\n",
       " 18.0,\n",
       " 18.0,\n",
       " 18.0,\n",
       " 18.0,\n",
       " 18.0,\n",
       " 19.0,\n",
       " 19.0,\n",
       " 19.0,\n",
       " 19.0,\n",
       " 19.0,\n",
       " 19.0,\n",
       " 19.0,\n",
       " 19.0,\n",
       " 19.0,\n",
       " 19.0,\n",
       " 19.0,\n",
       " 19.0,\n",
       " 20.0,\n",
       " 20.0,\n",
       " 20.0,\n",
       " 20.0,\n",
       " 20.0,\n",
       " 20.0,\n",
       " 20.0,\n",
       " 20.0,\n",
       " 20.0,\n",
       " 20.0,\n",
       " 20.0,\n",
       " 21.0,\n",
       " 21.0,\n",
       " 21.0,\n",
       " 21.0,\n",
       " 21.0,\n",
       " 21.0,\n",
       " 21.0,\n",
       " 21.0,\n",
       " 21.0,\n",
       " 21.0,\n",
       " 21.0,\n",
       " 21.0,\n",
       " 21.0,\n",
       " 21.0,\n",
       " 22.0,\n",
       " 22.0,\n",
       " 22.0,\n",
       " 22.0,\n",
       " 22.0,\n",
       " 22.0,\n",
       " 22.0,\n",
       " 22.0,\n",
       " 22.0,\n",
       " 22.0,\n",
       " 22.0,\n",
       " 23.0,\n",
       " 23.0,\n",
       " 23.0,\n",
       " 23.0,\n",
       " 23.0,\n",
       " 23.0,\n",
       " 23.0,\n",
       " 23.0,\n",
       " 23.0,\n",
       " 23.0,\n",
       " 23.0,\n",
       " 24.0,\n",
       " 24.0,\n",
       " 24.0,\n",
       " 24.0,\n",
       " 24.0,\n",
       " 24.0,\n",
       " 24.0,\n",
       " 24.0,\n",
       " 24.0,\n",
       " 24.0,\n",
       " 24.0,\n",
       " 24.0,\n",
       " 24.0,\n",
       " 24.0,\n",
       " 24.0,\n",
       " 24.0,\n",
       " 24.0,\n",
       " 24.0,\n",
       " 24.0,\n",
       " 25.0,\n",
       " 25.0,\n",
       " 25.0,\n",
       " 25.0,\n",
       " 25.0,\n",
       " 25.0,\n",
       " 25.0,\n",
       " 25.0,\n",
       " 25.0,\n",
       " 25.0,\n",
       " 25.0,\n",
       " 25.0,\n",
       " 25.0,\n",
       " 25.0,\n",
       " 25.0,\n",
       " 25.0,\n",
       " 25.0,\n",
       " 26.0,\n",
       " 26.0,\n",
       " 26.0,\n",
       " 26.0,\n",
       " 26.0,\n",
       " 26.0,\n",
       " 26.0,\n",
       " 26.0,\n",
       " 26.0,\n",
       " 26.0,\n",
       " 26.0,\n",
       " 26.0,\n",
       " 26.0,\n",
       " 26.0,\n",
       " 26.0,\n",
       " 27.0,\n",
       " 27.0,\n",
       " 27.0,\n",
       " 27.0,\n",
       " 27.0,\n",
       " 27.0,\n",
       " 27.0,\n",
       " 27.0,\n",
       " 27.0,\n",
       " 27.0,\n",
       " 27.0,\n",
       " 27.0,\n",
       " 27.0,\n",
       " 27.0,\n",
       " 27.0,\n",
       " 27.0,\n",
       " 27.0,\n",
       " 27.0,\n",
       " 27.0,\n",
       " 28.0,\n",
       " 28.0,\n",
       " 28.0,\n",
       " 28.0,\n",
       " 28.0,\n",
       " 28.0,\n",
       " 28.0,\n",
       " 28.0,\n",
       " 28.0,\n",
       " 28.0,\n",
       " 28.0,\n",
       " 28.0,\n",
       " 28.0,\n",
       " 28.0,\n",
       " 28.0,\n",
       " 28.0,\n",
       " 28.0,\n",
       " 28.0,\n",
       " 29.0,\n",
       " 29.0,\n",
       " 29.0,\n",
       " 29.0,\n",
       " 29.0,\n",
       " 29.0,\n",
       " 29.0,\n",
       " 29.0,\n",
       " 29.0,\n",
       " 29.0,\n",
       " 29.0,\n",
       " 29.0,\n",
       " 29.0,\n",
       " 29.0,\n",
       " 29.0,\n",
       " 29.0,\n",
       " 29.0,\n",
       " 29.0,\n",
       " 29.0,\n",
       " 29.0,\n",
       " 29.0,\n",
       " 29.0,\n",
       " 29.0,\n",
       " 29.0,\n",
       " 29.0,\n",
       " 30.0,\n",
       " 30.0,\n",
       " 30.0,\n",
       " 30.0,\n",
       " 30.0,\n",
       " 30.0,\n",
       " 30.0,\n",
       " 30.0,\n",
       " 30.0,\n",
       " 30.0,\n",
       " 30.0,\n",
       " 30.0,\n",
       " 30.0,\n",
       " 30.0,\n",
       " 30.0,\n",
       " 30.0,\n",
       " 30.0,\n",
       " 30.0,\n",
       " 30.0,\n",
       " 30.0,\n",
       " 30.0,\n",
       " 30.0,\n",
       " 30.0,\n",
       " 30.0,\n",
       " 31.0,\n",
       " 31.0,\n",
       " 31.0,\n",
       " 31.0,\n",
       " 31.0,\n",
       " 31.0,\n",
       " 31.0,\n",
       " 31.0,\n",
       " 31.0,\n",
       " 31.0,\n",
       " 31.0,\n",
       " 31.0,\n",
       " 31.0,\n",
       " 31.0,\n",
       " 31.0,\n",
       " 31.0,\n",
       " 31.0,\n",
       " 31.0,\n",
       " 31.0,\n",
       " 31.0,\n",
       " 31.0,\n",
       " 32.0,\n",
       " 32.0,\n",
       " 32.0,\n",
       " 32.0,\n",
       " 32.0,\n",
       " 32.0,\n",
       " 32.0,\n",
       " 32.0,\n",
       " 32.0,\n",
       " 32.0,\n",
       " 32.0,\n",
       " 32.0,\n",
       " 32.0,\n",
       " 32.0,\n",
       " 32.0,\n",
       " 32.0,\n",
       " 32.0,\n",
       " 32.0,\n",
       " 32.0,\n",
       " 32.0,\n",
       " 32.0,\n",
       " 32.0,\n",
       " 32.0,\n",
       " 32.0,\n",
       " 32.0,\n",
       " 32.0,\n",
       " 32.0,\n",
       " 32.0,\n",
       " 32.0,\n",
       " 32.0,\n",
       " 32.0,\n",
       " 32.0,\n",
       " 32.0,\n",
       " 32.0,\n",
       " 32.0,\n",
       " 32.0,\n",
       " 32.0,\n",
       " 33.0,\n",
       " 33.0,\n",
       " 33.0,\n",
       " 33.0,\n",
       " 33.0,\n",
       " 33.0,\n",
       " 33.0,\n",
       " 33.0,\n",
       " 33.0,\n",
       " 33.0,\n",
       " 33.0,\n",
       " 33.0,\n",
       " 33.0,\n",
       " 33.0,\n",
       " 33.0,\n",
       " 33.0,\n",
       " 33.0,\n",
       " 34.0,\n",
       " 34.0,\n",
       " 34.0,\n",
       " 34.0,\n",
       " 34.0,\n",
       " 34.0,\n",
       " 34.0,\n",
       " 34.0,\n",
       " 34.0,\n",
       " 34.0,\n",
       " 34.0,\n",
       " 34.0,\n",
       " 34.0,\n",
       " 34.0,\n",
       " 34.0,\n",
       " 34.0,\n",
       " 34.0,\n",
       " 34.0,\n",
       " 34.0,\n",
       " 34.0,\n",
       " 35.0,\n",
       " 35.0,\n",
       " 35.0,\n",
       " 35.0,\n",
       " 35.0,\n",
       " 35.0,\n",
       " 35.0,\n",
       " 35.0,\n",
       " 35.0,\n",
       " 35.0,\n",
       " 35.0,\n",
       " 35.0,\n",
       " 35.0,\n",
       " 35.0,\n",
       " 35.0,\n",
       " 35.0,\n",
       " 35.0,\n",
       " 35.0,\n",
       " 35.0,\n",
       " 35.0,\n",
       " 35.0,\n",
       " 35.0,\n",
       " 35.0,\n",
       " 35.0,\n",
       " 35.0,\n",
       " 35.0,\n",
       " 35.0,\n",
       " 35.0,\n",
       " 35.0,\n",
       " 35.0,\n",
       " 35.0,\n",
       " 36.0,\n",
       " 36.0,\n",
       " 36.0,\n",
       " 36.0,\n",
       " 36.0,\n",
       " 36.0,\n",
       " 36.0,\n",
       " 36.0,\n",
       " 36.0,\n",
       " 36.0,\n",
       " 36.0,\n",
       " 36.0,\n",
       " 36.0,\n",
       " 36.0,\n",
       " 36.0,\n",
       " 36.0,\n",
       " 36.0,\n",
       " 36.0,\n",
       " 36.0,\n",
       " 36.0,\n",
       " 36.0,\n",
       " 36.0,\n",
       " 36.0,\n",
       " 36.0,\n",
       " 36.0,\n",
       " 36.0,\n",
       " 37.0,\n",
       " 37.0,\n",
       " 37.0,\n",
       " 37.0,\n",
       " 37.0,\n",
       " 37.0,\n",
       " 37.0,\n",
       " 37.0,\n",
       " 37.0,\n",
       " 37.0,\n",
       " 37.0,\n",
       " 37.0,\n",
       " 37.0,\n",
       " 37.0,\n",
       " 37.0,\n",
       " 37.0,\n",
       " 37.0,\n",
       " 37.0,\n",
       " 37.0,\n",
       " 37.0,\n",
       " 37.0,\n",
       " 37.0,\n",
       " 37.0,\n",
       " 37.0,\n",
       " 37.0,\n",
       " 37.0,\n",
       " 37.0,\n",
       " 37.0,\n",
       " 37.0,\n",
       " 37.0,\n",
       " 37.0,\n",
       " 38.0,\n",
       " 38.0,\n",
       " 38.0,\n",
       " 38.0,\n",
       " 38.0,\n",
       " 38.0,\n",
       " 38.0,\n",
       " 38.0,\n",
       " 38.0,\n",
       " 38.0,\n",
       " 38.0,\n",
       " 38.0,\n",
       " 38.0,\n",
       " 38.0,\n",
       " 38.0,\n",
       " 38.0,\n",
       " 38.0,\n",
       " 38.0,\n",
       " 38.0,\n",
       " 38.0,\n",
       " 38.0,\n",
       " 38.0,\n",
       " 38.0,\n",
       " 38.0,\n",
       " 38.0,\n",
       " 39.0,\n",
       " 39.0,\n",
       " 39.0,\n",
       " 39.0,\n",
       " 39.0,\n",
       " 39.0,\n",
       " 39.0,\n",
       " 39.0,\n",
       " 39.0,\n",
       " 39.0,\n",
       " 39.0,\n",
       " 39.0,\n",
       " 39.0,\n",
       " 39.0,\n",
       " 39.0,\n",
       " 39.0,\n",
       " 39.0,\n",
       " 39.0,\n",
       " 39.0,\n",
       " 39.0,\n",
       " 39.0,\n",
       " 39.0,\n",
       " 39.0,\n",
       " 39.0,\n",
       " 39.0,\n",
       " 39.0,\n",
       " 39.0,\n",
       " 39.0,\n",
       " 39.0,\n",
       " 40.0,\n",
       " 40.0,\n",
       " 40.0,\n",
       " 40.0,\n",
       " 40.0,\n",
       " 40.0,\n",
       " 40.0,\n",
       " 40.0,\n",
       " 40.0,\n",
       " 40.0,\n",
       " 40.0,\n",
       " 40.0,\n",
       " 40.0,\n",
       " 40.0,\n",
       " 40.0,\n",
       " 40.0,\n",
       " 40.0,\n",
       " 40.0,\n",
       " 40.0,\n",
       " 40.0,\n",
       " 40.0,\n",
       " 41.0,\n",
       " 41.0,\n",
       " 41.0,\n",
       " 41.0,\n",
       " 41.0,\n",
       " 41.0,\n",
       " 41.0,\n",
       " 41.0,\n",
       " 41.0,\n",
       " 41.0,\n",
       " 41.0,\n",
       " 41.0,\n",
       " 41.0,\n",
       " 41.0,\n",
       " 41.0,\n",
       " 41.0,\n",
       " 41.0,\n",
       " 41.0,\n",
       " 41.0,\n",
       " 41.0,\n",
       " 41.0,\n",
       " 41.0,\n",
       " 41.0,\n",
       " 41.0,\n",
       " 41.0,\n",
       " 42.0,\n",
       " 42.0,\n",
       " 42.0,\n",
       " 42.0,\n",
       " 42.0,\n",
       " 42.0,\n",
       " 42.0,\n",
       " 42.0,\n",
       " 42.0,\n",
       " 42.0,\n",
       " 42.0,\n",
       " 42.0,\n",
       " 42.0,\n",
       " 42.0,\n",
       " 43.0,\n",
       " 43.0,\n",
       " 43.0,\n",
       " 43.0,\n",
       " 43.0,\n",
       " 43.0,\n",
       " 43.0,\n",
       " 43.0,\n",
       " 43.0,\n",
       " 43.0,\n",
       " 43.0,\n",
       " 43.0,\n",
       " 43.0,\n",
       " 43.0,\n",
       " 43.0,\n",
       " 43.0,\n",
       " 43.0,\n",
       " 43.0,\n",
       " 43.0,\n",
       " 43.0,\n",
       " 43.0,\n",
       " 43.0,\n",
       " 44.0,\n",
       " 44.0,\n",
       " 44.0,\n",
       " 44.0,\n",
       " 44.0,\n",
       " 44.0,\n",
       " 44.0,\n",
       " 44.0,\n",
       " 44.0,\n",
       " 44.0,\n",
       " 44.0,\n",
       " 44.0,\n",
       " 44.0,\n",
       " 44.0,\n",
       " 44.0,\n",
       " 44.0,\n",
       " 44.0,\n",
       " 45.0,\n",
       " 45.0,\n",
       " 45.0,\n",
       " 45.0,\n",
       " 45.0,\n",
       " 45.0,\n",
       " 45.0,\n",
       " 45.0,\n",
       " 45.0,\n",
       " 45.0,\n",
       " 45.0,\n",
       " 45.0,\n",
       " 45.0,\n",
       " 45.0,\n",
       " 45.0,\n",
       " 45.0,\n",
       " 45.0,\n",
       " 45.0,\n",
       " 45.0,\n",
       " 45.0,\n",
       " 45.0,\n",
       " 45.0,\n",
       " 45.0,\n",
       " 45.0,\n",
       " 46.0,\n",
       " 46.0,\n",
       " 46.0,\n",
       " 46.0,\n",
       " 46.0,\n",
       " 46.0,\n",
       " 46.0,\n",
       " 46.0,\n",
       " 46.0,\n",
       " 46.0,\n",
       " 46.0,\n",
       " 46.0,\n",
       " 46.0,\n",
       " 46.0,\n",
       " 46.0,\n",
       " 46.0,\n",
       " 46.0,\n",
       " 46.0,\n",
       " 46.0,\n",
       " 46.0,\n",
       " 46.0,\n",
       " 46.0,\n",
       " 47.0,\n",
       " 47.0,\n",
       " 47.0,\n",
       " 47.0,\n",
       " 47.0,\n",
       " 47.0,\n",
       " 47.0,\n",
       " 47.0,\n",
       " 47.0,\n",
       " 47.0,\n",
       " 47.0,\n",
       " 47.0,\n",
       " 47.0,\n",
       " 47.0,\n",
       " 47.0,\n",
       " 48.0,\n",
       " 48.0,\n",
       " 48.0,\n",
       " 48.0,\n",
       " 48.0,\n",
       " 48.0,\n",
       " 48.0,\n",
       " 48.0,\n",
       " 48.0,\n",
       " 48.0,\n",
       " 48.0,\n",
       " 48.0,\n",
       " 48.0,\n",
       " 48.0,\n",
       " 48.0,\n",
       " 48.0,\n",
       " 48.0,\n",
       " 48.0,\n",
       " 48.0,\n",
       " 48.0,\n",
       " 48.0,\n",
       " 48.0,\n",
       " 48.0,\n",
       " 48.0,\n",
       " 48.0,\n",
       " 49.0,\n",
       " 49.0,\n",
       " 49.0,\n",
       " 49.0,\n",
       " 49.0,\n",
       " 49.0,\n",
       " 49.0,\n",
       " 49.0,\n",
       " 49.0,\n",
       " 49.0,\n",
       " 49.0,\n",
       " 49.0,\n",
       " 49.0,\n",
       " 49.0,\n",
       " 49.0,\n",
       " 49.0,\n",
       " 49.0,\n",
       " 49.0,\n",
       " 50.0,\n",
       " 50.0,\n",
       " 50.0,\n",
       " 50.0,\n",
       " 50.0,\n",
       " 50.0,\n",
       " 50.0,\n",
       " 50.0,\n",
       " 50.0,\n",
       " 50.0,\n",
       " 50.0,\n",
       " 50.0,\n",
       " 50.0,\n",
       " 50.0,\n",
       " 50.0,\n",
       " 50.0,\n",
       " 50.0,\n",
       " 50.0,\n",
       " 50.0,\n",
       " 50.0,\n",
       " 50.0,\n",
       " 51.0,\n",
       " 51.0,\n",
       " 51.0,\n",
       " 51.0,\n",
       " 51.0,\n",
       " 51.0,\n",
       " 51.0,\n",
       " 51.0,\n",
       " 51.0,\n",
       " 51.0,\n",
       " 51.0,\n",
       " 51.0,\n",
       " 51.0,\n",
       " 51.0,\n",
       " 52.0,\n",
       " 52.0,\n",
       " 52.0,\n",
       " 52.0,\n",
       " 52.0,\n",
       " 52.0,\n",
       " 52.0,\n",
       " 52.0,\n",
       " 52.0,\n",
       " 52.0,\n",
       " 52.0,\n",
       " 52.0,\n",
       " 52.0,\n",
       " 52.0,\n",
       " 52.0,\n",
       " 52.0,\n",
       " 52.0,\n",
       " 53.0,\n",
       " 53.0,\n",
       " 53.0,\n",
       " 53.0,\n",
       " 53.0,\n",
       " 53.0,\n",
       " 53.0,\n",
       " 53.0,\n",
       " 53.0,\n",
       " 53.0,\n",
       " 53.0,\n",
       " 53.0,\n",
       " 53.0,\n",
       " 53.0,\n",
       " 54.0,\n",
       " 54.0,\n",
       " 54.0,\n",
       " 54.0,\n",
       " 54.0,\n",
       " 54.0,\n",
       " 54.0,\n",
       " 54.0,\n",
       " 54.0,\n",
       " 55.0,\n",
       " 55.0,\n",
       " 55.0,\n",
       " 55.0,\n",
       " 55.0,\n",
       " 55.0,\n",
       " 55.0,\n",
       " 55.0,\n",
       " 55.0,\n",
       " 55.0,\n",
       " 55.0,\n",
       " 55.0,\n",
       " 55.0,\n",
       " 56.0,\n",
       " 56.0,\n",
       " 56.0,\n",
       " 56.0,\n",
       " 56.0,\n",
       " 56.0,\n",
       " 56.0,\n",
       " 56.0,\n",
       " 56.0,\n",
       " 56.0,\n",
       " 57.0,\n",
       " 57.0,\n",
       " 57.0,\n",
       " 57.0,\n",
       " 57.0,\n",
       " 57.0,\n",
       " 57.0,\n",
       " 57.0,\n",
       " 58.0,\n",
       " 58.0,\n",
       " 58.0,\n",
       " 58.0,\n",
       " 58.0,\n",
       " 58.0,\n",
       " 59.0,\n",
       " 59.0,\n",
       " 59.0,\n",
       " 59.0,\n",
       " 59.0,\n",
       " 59.0,\n",
       " 59.0,\n",
       " 59.0,\n",
       " 60.0,\n",
       " 60.0,\n",
       " 60.0,\n",
       " 60.0,\n",
       " 60.0,\n",
       " 60.0,\n",
       " 61.0,\n",
       " 61.0,\n",
       " 61.0,\n",
       " 61.0,\n",
       " 61.0,\n",
       " 61.0,\n",
       " 62.0,\n",
       " 62.0,\n",
       " 62.0,\n",
       " 63.0,\n",
       " 63.0,\n",
       " 63.0,\n",
       " 63.0,\n",
       " 63.0,\n",
       " 63.0,\n",
       " 63.0,\n",
       " 63.0,\n",
       " 63.0,\n",
       " 63.0,\n",
       " 63.0,\n",
       " 63.0,\n",
       " 64.0,\n",
       " 64.0,\n",
       " 64.0,\n",
       " 64.0,\n",
       " 64.0,\n",
       " 64.0,\n",
       " 64.0,\n",
       " 64.0,\n",
       " 64.0,\n",
       " 64.0,\n",
       " 64.0,\n",
       " 64.0,\n",
       " 65.0,\n",
       " 65.0,\n",
       " 65.0,\n",
       " 65.0,\n",
       " 65.0,\n",
       " 65.0,\n",
       " 65.0,\n",
       " 65.0,\n",
       " 65.0,\n",
       " 65.0,\n",
       " 65.0,\n",
       " 65.0,\n",
       " 65.0,\n",
       " 65.0,\n",
       " 65.0,\n",
       " 66.0,\n",
       " 66.0,\n",
       " 66.0,\n",
       " 66.0,\n",
       " 66.0,\n",
       " 66.0,\n",
       " 66.0,\n",
       " 66.0,\n",
       " 66.0,\n",
       " 66.0,\n",
       " 66.0,\n",
       " 66.0,\n",
       " 66.0,\n",
       " 66.0,\n",
       " 66.0,\n",
       " 66.0,\n",
       " 66.0,\n",
       " 66.0,\n",
       " 66.0,\n",
       " 67.0,\n",
       " 67.0,\n",
       " 67.0,\n",
       " 67.0,\n",
       " 67.0,\n",
       " 67.0,\n",
       " 67.0,\n",
       " 67.0,\n",
       " 67.0,\n",
       " 67.0,\n",
       " 67.0,\n",
       " 67.0,\n",
       " 67.0,\n",
       " 67.0,\n",
       " 67.0,\n",
       " 67.0,\n",
       " 67.0,\n",
       " 67.0,\n",
       " 67.0,\n",
       " 67.0,\n",
       " 67.0,\n",
       " 67.0,\n",
       " 68.0,\n",
       " 68.0,\n",
       " 68.0,\n",
       " 68.0,\n",
       " 68.0,\n",
       " 68.0,\n",
       " 68.0,\n",
       " 68.0,\n",
       " 68.0,\n",
       " 68.0,\n",
       " 68.0,\n",
       " 68.0,\n",
       " 68.0,\n",
       " 68.0,\n",
       " 68.0,\n",
       " 68.0,\n",
       " 68.0,\n",
       " 69.0,\n",
       " 69.0,\n",
       " 69.0,\n",
       " 69.0,\n",
       " 69.0,\n",
       " 69.0,\n",
       " 69.0,\n",
       " 69.0,\n",
       " 69.0,\n",
       " 69.0,\n",
       " 69.0,\n",
       " 69.0,\n",
       " 69.0,\n",
       " 69.0,\n",
       " 69.0,\n",
       " 69.0,\n",
       " 69.0,\n",
       " 70.0,\n",
       " 70.0,\n",
       " 70.0,\n",
       " 70.0,\n",
       " 70.0,\n",
       " 70.0,\n",
       " 70.0,\n",
       " 70.0,\n",
       " 70.0,\n",
       " 70.0,\n",
       " 70.0,\n",
       " 70.0,\n",
       " 70.0,\n",
       " 70.0,\n",
       " 70.0,\n",
       " 70.0,\n",
       " 70.0,\n",
       " 70.0,\n",
       " 70.0,\n",
       " 71.0,\n",
       " 71.0,\n",
       " 71.0,\n",
       " 71.0,\n",
       " 71.0,\n",
       " 71.0,\n",
       " 71.0,\n",
       " 71.0,\n",
       " 71.0,\n",
       " 71.0,\n",
       " 71.0,\n",
       " 72.0,\n",
       " 72.0,\n",
       " 72.0,\n",
       " 72.0,\n",
       " 72.0,\n",
       " 72.0,\n",
       " 72.0,\n",
       " 72.0,\n",
       " 73.0,\n",
       " 73.0,\n",
       " 73.0,\n",
       " 73.0,\n",
       " 73.0,\n",
       " 73.0,\n",
       " 74.0,\n",
       " 74.0,\n",
       " 74.0,\n",
       " 74.0,\n",
       " 74.0,\n",
       " 74.0,\n",
       " 75.0,\n",
       " 75.0,\n",
       " 76.0,\n",
       " 77.0,\n",
       " 77.0]"
      ]
     },
     "execution_count": 195,
     "metadata": {},
     "output_type": "execute_result"
    }
   ],
   "source": [
    "ages_population3_sorted=ages_population3.sort_values(by='observation')\n",
    "print(ages_population3_sorted)\n",
    "ages_population3_sorted=ages_population3_sorted.reset_index()\n",
    "print(ages_population3_sorted)\n",
    "\n",
    "ages_population3_sorted = ages_population3_sorted.drop ('index',axis=1)\n",
    "ages_population3_sorted_list=list(ages_population3_sorted['observation'])\n",
    "ages_population3_sorted_list\n"
   ]
  },
  {
   "cell_type": "code",
   "execution_count": 197,
   "metadata": {},
   "outputs": [
    {
     "data": {
      "text/plain": [
       "500"
      ]
     },
     "execution_count": 197,
     "metadata": {},
     "output_type": "execute_result"
    }
   ],
   "source": [
    "len(ages_population3_sorted_list)//2"
   ]
  },
  {
   "cell_type": "code",
   "execution_count": 198,
   "metadata": {},
   "outputs": [
    {
     "name": "stdout",
     "output_type": "stream",
     "text": [
      "30.0 40.0 23.0 53.0\n"
     ]
    }
   ],
   "source": [
    "# your code here\n",
    "\n",
    "# First quartile (Q1)\n",
    "#5= len(dice_rolls_sorted_list)/2\n",
    "#Q1 = np.median(dice_rolls_sorted_list[:500])\n",
    "Q1 = calculate_median(ages_population3_sorted_list[:len(ages_population3_sorted_list)//2])\n",
    "\n",
    "# Second quartile (Q2) - Median\n",
    "Q2 = calculate_median(ages_population3_sorted_list)\n",
    "\n",
    "# Third quartile (Q3)\n",
    "#Q3 = np.median(dice_rolls_sorted_list[5:])\n",
    "Q3 = calculate_median(ages_population3_sorted_list[len(ages_population3_sorted_list)//2:]) \n",
    "\n",
    "# Interquartile range (IQR)\n",
    "IQR = Q3 - Q1\n",
    "  \n",
    "print(Q1,Q2,IQR,Q3)  #30.0 40.0 23.0 53.0"
   ]
  },
  {
   "cell_type": "code",
   "execution_count": null,
   "metadata": {},
   "outputs": [],
   "source": [
    "\"\"\"\n",
    "your comments here\n",
    "\n",
    "30.0 40.0 23.0 53.0\n",
    "\n",
    "25% of the population is bellow 30 years old\n",
    "25% of the population is above 53 years old\n",
    "Median 40.0\n",
    "50% of the population is between 30 and 53 years old.\n",
    "\n",
    "Meanind the de population of this data is quite young (yes, 30s-40s is young!) \n",
    "There is a big amount of people on his 30s-40s.\n",
    "\"\"\""
   ]
  },
  {
   "cell_type": "markdown",
   "metadata": {},
   "source": [
    "#### 4.- Calculate other percentiles that might be useful to give more arguments to your reasoning."
   ]
  },
  {
   "cell_type": "code",
   "execution_count": 203,
   "metadata": {},
   "outputs": [
    {
     "name": "stdout",
     "output_type": "stream",
     "text": [
      "40th percentile of data :  36.0\n",
      "50th percentile of data :  40.0\n",
      "70th percentile of data :  50.0\n"
     ]
    },
    {
     "data": {
      "image/png": "[encoded data removed]",
      "text/plain": [
       "<Figure size 432x288 with 1 Axes>"
      ]
     },
     "metadata": {
      "needs_background": "light"
     },
     "output_type": "display_data"
    }
   ],
   "source": [
    "# your code here\n",
    "ages_population3.hist()\n",
    "print(\"40th percentile of data : \",np.percentile(ages_population3_sorted_list, 40))\n",
    "print(\"50th percentile of data : \",np.percentile(ages_population3_sorted_list, 50))\n",
    "print(\"70th percentile of data : \",np.percentile(ages_population3_sorted_list, 70))"
   ]
  },
  {
   "cell_type": "code",
   "execution_count": null,
   "metadata": {},
   "outputs": [],
   "source": [
    "\"\"\"\n",
    "your comments here\n",
    "\n",
    "    What Does 25th Percentile Mean?\n",
    "    The 25th percentile tells you the value that 25% of the population falls below.  \n",
    "    Alternatively, it is the value that 75% of the population is at or above.\n",
    "\n",
    "So:\n",
    "The 40th percentile us that 40% of the population falls bellow 36 years old. \n",
    "The 50th percentile us that 50% of the population falls bellow 40 years old.\n",
    "The 70th percentile us that 70% of the population falls bellow 50 years old.\n",
    "\n",
    "70% of the population is bellow 50 years old. Or the same, only 30% of the population is more thatn 50 years old.\n",
    "Meaning that in this neighborhood there aren't too much old people.\n",
    "\n",
    "\"\"\""
   ]
  },
  {
   "cell_type": "markdown",
   "metadata": {},
   "source": [
    "## Bonus challenge\n",
    "Compare the information about the three neighbourhoods. Prepare a report about the three of them. Remember to find out which are their similarities and their differences backing your arguments in basic statistics."
   ]
  },
  {
   "cell_type": "code",
   "execution_count": 207,
   "metadata": {},
   "outputs": [
    {
     "data": {
      "image/png": "[encoded data removed]",
      "text/plain": [
       "<Figure size 432x288 with 1 Axes>"
      ]
     },
     "metadata": {
      "needs_background": "light"
     },
     "output_type": "display_data"
    }
   ],
   "source": [
    "# your code here\n",
    "#I will come back to do this one, but I don't have more time today:\n",
    "\"\"\"\n",
    "plt.hist(ages_population2, color=\"blue\")\n",
    "plt.hist(ages_population3, color=\"green\")\n",
    "plt.title('Roll a dice 10 times')\n",
    "plt.xlabel('Rolls')\n",
    "plt.ylabel('Frequency')\n",
    "plt.show()\n",
    "\"\"\"\n"
   ]
  },
  {
   "cell_type": "code",
   "execution_count": null,
   "metadata": {},
   "outputs": [],
   "source": [
    "\"\"\"\n",
    "your comments here\n",
    "\"\"\""
   ]
  }
 ],
 "metadata": {
  "kernelspec": {
   "display_name": "Python 3 (ipykernel)",
   "language": "python",
   "name": "python3"
  },
  "language_info": {
   "codemirror_mode": {
    "name": "ipython",
    "version": 3
   },
   "file_extension": ".py",
   "mimetype": "text/x-python",
   "name": "python",
   "nbconvert_exporter": "python",
   "pygments_lexer": "ipython3",
   "version": "3.9.7"
  }
 },
 "nbformat": 4,
 "nbformat_minor": 2
}
